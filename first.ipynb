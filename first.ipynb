{
 "cells": [
  {
   "cell_type": "markdown",
   "source": [
    "> Copyright © 2021 Giovanni Squillero <[squillero@polito.it](mailto:squillero@polito.it)>  \r\n",
    "> Free for personal or classroom use. See '[LICENCE.md](https://github.com/squillero/python_the-hard-way/blob/master/LICENSE.md)' for details.  \r\n",
    "> [https://github.com/squillero/python_the-hard-way](https://github.com/squillero/python_the-hard-way)  "
   ],
   "metadata": {}
  },
  {
   "cell_type": "code",
   "execution_count": null,
   "source": [],
   "outputs": [],
   "metadata": {}
  }
 ],
 "metadata": {
  "orig_nbformat": 4,
  "language_info": {
   "name": "python"
  }
 },
 "nbformat": 4,
 "nbformat_minor": 2
}