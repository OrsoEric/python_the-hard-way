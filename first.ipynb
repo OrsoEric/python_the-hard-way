{
 "cells": [
  {
   "cell_type": "markdown",
   "source": [
    "> Copyright © 2021 Giovanni Squillero <[squillero@polito.it](squillero@polito.it)>  \r\n",
    "> Free for personal or classroom use. See 'LICENCE.md' for details.  \r\n",
    "> [https://github.com/squillero/python_the-hard-way](https://github.com/squillero/python_the-hard-way)  "
   ],
   "metadata": {}
  },
  {
   "cell_type": "markdown",
   "source": [],
   "metadata": {}
  }
 ],
 "metadata": {
  "orig_nbformat": 4,
  "language_info": {
   "name": "python"
  }
 },
 "nbformat": 4,
 "nbformat_minor": 2
}