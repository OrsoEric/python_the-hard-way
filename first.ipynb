{
 "cells": [
  {
   "cell_type": "markdown",
   "source": [
    "> Sample notebook from [https://github.com/squillero/python_the-hard-way](https://github.com/squillero/python_the-hard-way)  \r\n",
    "> Copyright © 2021 [Giovanni Squillero](https://github.com/squillero). \r\n",
    "> Free for personal or classroom use; see [LICENCE.md](https://github.com/squillero/python_the-hard-way/blob/master/LICENSE.md) for details.  "
   ],
   "metadata": {}
  },
  {
   "cell_type": "code",
   "execution_count": null,
   "source": [],
   "outputs": [],
   "metadata": {}
  }
 ],
 "metadata": {
  "orig_nbformat": 4,
  "language_info": {
   "name": "python"
  }
 },
 "nbformat": 4,
 "nbformat_minor": 2
}